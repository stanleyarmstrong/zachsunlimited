{
 "cells": [
  {
   "cell_type": "code",
   "execution_count": 114,
   "metadata": {
    "collapsed": true
   },
   "outputs": [],
   "source": [
    "import pandas as pd \n",
    "import json\n",
    "import requests\n",
    "import re \n",
    "from nltk.corpus import stopwords\n",
    "from nltk.stem.porter import PorterStemmer\n",
    "stopwords = set(stopwords.words(\"english\"))\n",
    "stemmer = PorterStemmer()"
   ]
  },
  {
   "cell_type": "code",
   "execution_count": 159,
   "metadata": {
    "collapsed": false
   },
   "outputs": [],
   "source": [
    "from watson_developer_cloud import AuthorizationV1 as WatsonAuthorization\n",
    "from watson_developer_cloud import AlchemyLanguageV1 as AlchemyLanguage"
   ]
  },
  {
   "cell_type": "code",
   "execution_count": 162,
   "metadata": {
    "collapsed": true
   },
   "outputs": [],
   "source": [
    "import os "
   ]
  },
  {
   "cell_type": "code",
   "execution_count": 163,
   "metadata": {
    "collapsed": false
   },
   "outputs": [],
   "source": [
    "alchemy = AlchemyLanguage(api_key=os.environ.get(\"ALCHEMY_API_KEY\"))"
   ]
  },
  {
   "cell_type": "code",
   "execution_count": 68,
   "metadata": {
    "collapsed": true
   },
   "outputs": [],
   "source": [
    "def URL_builder(api_key, begin_date, end_date, page=0):\n",
    "    '''\n",
    "    INPUT: NYT API key, begin date (YYYYMMDD), end date, page\n",
    "    OUTPUT: URL with JSON information about given day's headlines \n",
    "    '''\n",
    "    URL = 'https://api.nytimes.com/svc/search/v2/articlesearch.json?{}={}&{}={}&{}={}&{}={}&fq=news_desk:(\"World\")'.\\\n",
    "        format('api-key', api_key, 'begin-date', begin_date, 'end-date', end_date, 'page', page)\n",
    "    return URL"
   ]
  },
  {
   "cell_type": "code",
   "execution_count": 65,
   "metadata": {
    "collapsed": false
   },
   "outputs": [],
   "source": [
    "# def get_week_strings(seed):\n",
    "#     return [str(i+1) for i in range(seed-7, seed)]\n",
    "\n",
    "def Create_Headline_Df(date):\n",
    "    '''\n",
    "    INPUT: date in format 'YYYYMMDD' (Calling multiple dates can time out API)\n",
    "    OUTPUT: Pandas dataframe with columns for headlines and associated date \n",
    "    '''\n",
    "    api_key = 'aa955d9919794bb9a66785e7c52c3cb5'\n",
    "    data_tuples = []\n",
    "#     for date in date_list:\n",
    "    re = requests.get(URL_builder(api_key, date, date))\n",
    "    json_dict = json.loads(re.text)\n",
    "\n",
    "#         JSON Dictionaries are pretty icky ... we'll crawl through them and find what we need \n",
    "    for item in json_dict['response']['docs']: \n",
    "        if 'main' in item['headline'].keys():\n",
    "#               data_tuples.append((item['pub_date'], item['headline']['main']))\n",
    "            data_tuples.append((date, item['headline']['main']))\n",
    "                \n",
    "    labels = ['Date', 'Headline']\n",
    "    return pd.DataFrame.from_records(data_tuples, columns=labels)\n",
    "        "
   ]
  },
  {
   "cell_type": "code",
   "execution_count": 205,
   "metadata": {
    "collapsed": false
   },
   "outputs": [],
   "source": [
    "def word_cleaning(df):\n",
    "    '''\n",
    "    OUTPUT: Dataframe, grouped by date, Headline is stemmed headline words \n",
    "    '''\n",
    "    data_tuples = []\n",
    "    # Look at each date, clean strings, remove stopwords, etc.\n",
    "    for row in df.groupby('Date').agg(lambda x : ' '.join(x)).iterrows():\n",
    "        words = row[1]['Headline']\n",
    "        #Clean darta \n",
    "        letters_only = re.sub(\"[^\\sa-zA-Z]\", \"\", words) \n",
    "        tokenized_words = [word for word in letters_only.lower().split() if not word in stopwords]\n",
    "        word_cloud = ' '.join(tokenized_words)\n",
    "        data_tuples.append((row[0], word_cloud))\n",
    "    labels = ['Date', 'headline_words']\n",
    "    \n",
    "    #Return results as pandas dataframe \n",
    "    return pd.DataFrame.from_records(data_tuples, columns=labels)"
   ]
  },
  {
   "cell_type": "code",
   "execution_count": 227,
   "metadata": {
    "collapsed": true
   },
   "outputs": [],
   "source": [
    "def get_sentiment(df):\n",
    "    '''\n",
    "    INPUT: Pandas dataframe with date and words\n",
    "    OUTPUT: Score of how terrible the day was\n",
    "    '''\n",
    "    row_avg_scores = []\n",
    "    for row in df.iterrows():\n",
    "        score = 0 \n",
    "        for word in row[1]['headline_words'].split():\n",
    "            print(word)\n",
    "            print('-')\n",
    "            result = alchemy.sentiment(word)\n",
    "            try:\n",
    "                val = float(result['docSentiment']['score']) \n",
    "            except KeyError: #neutral words \n",
    "                val = 0\n",
    "            score += val \n",
    "        row_avg_scores.append((row[1]['Date'], score/len(row[1]['headline_words'])))\n",
    "    labels = ['Date', 'avg_score']\n",
    "    return pd.DataFrame.from_records(row_avg_scores, columns=labels)"
   ]
  },
  {
   "cell_type": "code",
   "execution_count": 177,
   "metadata": {
    "collapsed": false
   },
   "outputs": [],
   "source": [
    "sent_obj = alchemy.sentiment(\"earthquake\")"
   ]
  },
  {
   "cell_type": "code",
   "execution_count": 182,
   "metadata": {
    "collapsed": false
   },
   "outputs": [
    {
     "data": {
      "text/plain": [
       "-0.406711"
      ]
     },
     "execution_count": 182,
     "metadata": {},
     "output_type": "execute_result"
    }
   ],
   "source": [
    "float(sent_obj['docSentiment']['score'])"
   ]
  },
  {
   "cell_type": "code",
   "execution_count": 189,
   "metadata": {
    "collapsed": true
   },
   "outputs": [],
   "source": [
    "sent_obj = alchemy.sentiment(\"Zachary\")"
   ]
  },
  {
   "cell_type": "code",
   "execution_count": 191,
   "metadata": {
    "collapsed": false
   },
   "outputs": [
    {
     "data": {
      "text/plain": [
       "{'type': 'neutral'}"
      ]
     },
     "execution_count": 191,
     "metadata": {},
     "output_type": "execute_result"
    }
   ],
   "source": [
    "sent_obj['docSentiment']"
   ]
  },
  {
   "cell_type": "code",
   "execution_count": 185,
   "metadata": {
    "collapsed": false
   },
   "outputs": [
    {
     "ename": "KeyError",
     "evalue": "'score'",
     "output_type": "error",
     "traceback": [
      "\u001b[0;31m---------------------------------------------------------------------------\u001b[0m",
      "\u001b[0;31mKeyError\u001b[0m                                  Traceback (most recent call last)",
      "\u001b[0;32m<ipython-input-185-6168e6a4e1ed>\u001b[0m in \u001b[0;36m<module>\u001b[0;34m()\u001b[0m\n\u001b[0;32m----> 1\u001b[0;31m \u001b[0msent_obj\u001b[0m\u001b[0;34m[\u001b[0m\u001b[0;34m'docSentiment'\u001b[0m\u001b[0;34m]\u001b[0m\u001b[0;34m[\u001b[0m\u001b[0;34m'score'\u001b[0m\u001b[0;34m]\u001b[0m\u001b[0;34m\u001b[0m\u001b[0m\n\u001b[0m",
      "\u001b[0;31mKeyError\u001b[0m: 'score'"
     ]
    }
   ],
   "source": [
    "try:\n",
    "    val = float(sent_obj['docSentiment']['score']) #KeyError\n",
    "except KeyError:\n",
    "    if sent_obj['docSentiment']['type'] == 'neutral':\n",
    "        val = 0 \n",
    "    #I don't think words get assigned score with positive/negative value, but just in case ... \n",
    "    elif sent_obj['docSentiment']['type'] == 'positive': \n",
    "        val = .25\n",
    "    else:\n",
    "        val = -.25"
   ]
  },
  {
   "cell_type": "code",
   "execution_count": 69,
   "metadata": {
    "collapsed": false
   },
   "outputs": [],
   "source": [
    "df = Create_Headline_Df('20170131')"
   ]
  },
  {
   "cell_type": "code",
   "execution_count": 206,
   "metadata": {
    "collapsed": false
   },
   "outputs": [],
   "source": [
    "dfbig = word_cleaning(df)"
   ]
  },
  {
   "cell_type": "code",
   "execution_count": 228,
   "metadata": {
    "collapsed": false
   },
   "outputs": [
    {
     "name": "stdout",
     "output_type": "stream",
     "text": [
      "deadly\n",
      "-\n",
      "earthquake\n",
      "-\n",
      "philippines\n",
      "-\n",
      "trump\n",
      "-\n",
      "abe\n",
      "-\n",
      "usjapan\n",
      "-\n",
      "alliance\n",
      "-\n",
      "cornerstone\n",
      "-\n",
      "peace\n",
      "-\n",
      "stability\n",
      "-\n",
      "iranian\n",
      "-\n",
      "president\n",
      "-\n",
      "urges\n",
      "-\n",
      "respect\n",
      "-\n",
      "reverence\n",
      "-\n",
      "country\n",
      "-\n",
      "slap\n",
      "-\n",
      "wrist\n",
      "-\n",
      "aiding\n",
      "-\n",
      "migrants\n",
      "-\n",
      "explanatory\n",
      "-\n",
      "memorandum\n",
      "-\n",
      "muslim\n",
      "-\n",
      "brotherhood\n",
      "-\n",
      "scottish\n",
      "-\n",
      "lawmakers\n",
      "-\n",
      "whistle\n",
      "-\n",
      "european\n",
      "-\n",
      "anthem\n",
      "-\n",
      "popes\n",
      "-\n",
      "plea\n",
      "-\n",
      "pray\n",
      "-\n",
      "myanmar\n",
      "-\n",
      "muslims\n",
      "-\n",
      "wall\n",
      "-\n",
      "life\n",
      "-\n",
      "along\n",
      "-\n",
      "usmexico\n",
      "-\n",
      "border\n",
      "-\n",
      "irans\n",
      "-\n",
      "supreme\n",
      "-\n",
      "leader\n",
      "-\n",
      "thankful\n",
      "-\n",
      "trump\n",
      "-\n",
      "secret\n",
      "-\n",
      "expedition\n",
      "-\n",
      "old\n",
      "-\n",
      "hong\n",
      "-\n",
      "kong\n",
      "-\n"
     ]
    },
    {
     "data": {
      "text/html": [
       "<div>\n",
       "<table border=\"1\" class=\"dataframe\">\n",
       "  <thead>\n",
       "    <tr style=\"text-align: right;\">\n",
       "      <th></th>\n",
       "      <th>Date</th>\n",
       "      <th>avg_score</th>\n",
       "    </tr>\n",
       "  </thead>\n",
       "  <tbody>\n",
       "    <tr>\n",
       "      <th>0</th>\n",
       "      <td>20170131</td>\n",
       "      <td>0.0</td>\n",
       "    </tr>\n",
       "  </tbody>\n",
       "</table>\n",
       "</div>"
      ],
      "text/plain": [
       "       Date  avg_score\n",
       "0  20170131        0.0"
      ]
     },
     "execution_count": 228,
     "metadata": {},
     "output_type": "execute_result"
    }
   ],
   "source": [
    "get_sentiment(dfbig)"
   ]
  },
  {
   "cell_type": "code",
   "execution_count": 215,
   "metadata": {
    "collapsed": false
   },
   "outputs": [
    {
     "name": "stdout",
     "output_type": "stream",
     "text": [
      "deadly earthquake philippines trump abe usjapan alliance cornerstone peace stability iranian president urges respect reverence country slap wrist aiding migrants explanatory memorandum muslim brotherhood scottish lawmakers whistle european anthem popes plea pray myanmar muslims wall life along usmexico border irans supreme leader thankful trump secret expedition old hong kong\n",
      "20170131\n"
     ]
    }
   ],
   "source": [
    "for row in dfbig.iterrows():\n",
    "    print(row[1]['headline_words'])\n",
    "    print(row[1]['Date'])"
   ]
  },
  {
   "cell_type": "code",
   "execution_count": 133,
   "metadata": {
    "collapsed": false
   },
   "outputs": [
    {
     "name": "stdout",
     "output_type": "stream",
     "text": [
      "20170131\n"
     ]
    }
   ],
   "source": [
    "for row in df.groupby('Date').agg(lambda x : ' '.join(x)).iterrows():\n",
    "    print(row[0])"
   ]
  },
  {
   "cell_type": "code",
   "execution_count": 118,
   "metadata": {
    "collapsed": false
   },
   "outputs": [
    {
     "data": {
      "text/html": [
       "<div>\n",
       "<table border=\"1\" class=\"dataframe\">\n",
       "  <thead>\n",
       "    <tr style=\"text-align: right;\">\n",
       "      <th></th>\n",
       "      <th>Date</th>\n",
       "      <th>Headline</th>\n",
       "    </tr>\n",
       "  </thead>\n",
       "  <tbody>\n",
       "    <tr>\n",
       "      <th>0</th>\n",
       "      <td>20170131</td>\n",
       "      <td>Deadly Earthquake in the Philippines</td>\n",
       "    </tr>\n",
       "    <tr>\n",
       "      <th>1</th>\n",
       "      <td>20170131</td>\n",
       "      <td>Trump to Abe: 'U.S.-Japan Alliance is the Corn...</td>\n",
       "    </tr>\n",
       "    <tr>\n",
       "      <th>2</th>\n",
       "      <td>20170131</td>\n",
       "      <td>Iranian President Urges \"Respect and Reverence...</td>\n",
       "    </tr>\n",
       "    <tr>\n",
       "      <th>3</th>\n",
       "      <td>20170131</td>\n",
       "      <td>A Slap on the Wrist for Aiding Migrants</td>\n",
       "    </tr>\n",
       "    <tr>\n",
       "      <th>4</th>\n",
       "      <td>20170131</td>\n",
       "      <td>Explanatory Memorandum by Muslim Brotherhood F...</td>\n",
       "    </tr>\n",
       "    <tr>\n",
       "      <th>5</th>\n",
       "      <td>20170131</td>\n",
       "      <td>Scottish Lawmakers Whistle the European Anthem</td>\n",
       "    </tr>\n",
       "    <tr>\n",
       "      <th>6</th>\n",
       "      <td>20170131</td>\n",
       "      <td>Pope’s Plea: Pray for Myanmar Muslims</td>\n",
       "    </tr>\n",
       "    <tr>\n",
       "      <th>7</th>\n",
       "      <td>20170131</td>\n",
       "      <td>Before the Wall: Life Along the U.S.-Mexico Bo...</td>\n",
       "    </tr>\n",
       "    <tr>\n",
       "      <th>8</th>\n",
       "      <td>20170131</td>\n",
       "      <td>Iran’s Supreme Leader ‘Thankful’ for Trump</td>\n",
       "    </tr>\n",
       "    <tr>\n",
       "      <th>9</th>\n",
       "      <td>20170131</td>\n",
       "      <td>On a Secret Expedition to Old Hong Kong</td>\n",
       "    </tr>\n",
       "  </tbody>\n",
       "</table>\n",
       "</div>"
      ],
      "text/plain": [
       "       Date                                           Headline\n",
       "0  20170131               Deadly Earthquake in the Philippines\n",
       "1  20170131  Trump to Abe: 'U.S.-Japan Alliance is the Corn...\n",
       "2  20170131  Iranian President Urges \"Respect and Reverence...\n",
       "3  20170131            A Slap on the Wrist for Aiding Migrants\n",
       "4  20170131  Explanatory Memorandum by Muslim Brotherhood F...\n",
       "5  20170131     Scottish Lawmakers Whistle the European Anthem\n",
       "6  20170131              Pope’s Plea: Pray for Myanmar Muslims\n",
       "7  20170131  Before the Wall: Life Along the U.S.-Mexico Bo...\n",
       "8  20170131         Iran’s Supreme Leader ‘Thankful’ for Trump\n",
       "9  20170131            On a Secret Expedition to Old Hong Kong"
      ]
     },
     "execution_count": 118,
     "metadata": {},
     "output_type": "execute_result"
    }
   ],
   "source": [
    "df"
   ]
  },
  {
   "cell_type": "code",
   "execution_count": null,
   "metadata": {
    "collapsed": true
   },
   "outputs": [],
   "source": []
  },
  {
   "cell_type": "code",
   "execution_count": 116,
   "metadata": {
    "collapsed": false
   },
   "outputs": [],
   "source": [
    "for row in df.groupby('Date').agg(lambda x : ' '.join(x)).iterrows():\n",
    "    words = row[1]['Headline']\n",
    "    letters_only = re.sub(\"[^\\sa-zA-Z]\", \"\", words)\n",
    "    tokenized_words = [word for word in letters_only.lower().split() if not word in stopwords]\n",
    "#     cleaned_words = [stemmer.stem(word) for word in tokenized_words]"
   ]
  },
  {
   "cell_type": "code",
   "execution_count": 138,
   "metadata": {
    "collapsed": false
   },
   "outputs": [
    {
     "data": {
      "text/plain": [
       "'deadly earthquake philippines trump abe usjapan alliance cornerstone peace stability iranian president urges respect reverence country slap wrist aiding migrants explanatory memorandum muslim brotherhood scottish lawmakers whistle european anthem popes plea pray myanmar muslims wall life along usmexico border irans supreme leader thankful trump secret expedition old hong kong'"
      ]
     },
     "execution_count": 138,
     "metadata": {},
     "output_type": "execute_result"
    }
   ],
   "source": [
    "' '.join(tokenized_words)"
   ]
  },
  {
   "cell_type": "code",
   "execution_count": 57,
   "metadata": {
    "collapsed": false
   },
   "outputs": [
    {
     "data": {
      "text/plain": [
       "dict_keys(['meta', 'docs'])"
      ]
     },
     "execution_count": 57,
     "metadata": {},
     "output_type": "execute_result"
    }
   ],
   "source": [
    "jd['response'].keys()"
   ]
  },
  {
   "cell_type": "code",
   "execution_count": 12,
   "metadata": {
    "collapsed": false
   },
   "outputs": [
    {
     "data": {
      "text/plain": [
       "'https://api.nytimes.com/svc/search/v2/articlesearch.json?api-key=aa955d9919794bb9a66785e7c52c3cb5&begin-date=20170101&end-date=20170102&page=0'"
      ]
     },
     "execution_count": 12,
     "metadata": {},
     "output_type": "execute_result"
    }
   ],
   "source": [
    "URL_builder('aa955d9919794bb9a66785e7c52c3cb5', '20170101', '20170102')"
   ]
  },
  {
   "cell_type": "code",
   "execution_count": 24,
   "metadata": {
    "collapsed": false
   },
   "outputs": [],
   "source": [
    "r = requests.get(URL_builder('aa955d9919794bb9a66785e7c52c3cb5', '20170101', '20170102'))\n",
    "f1 = json.loads(r.text)\n",
    "\n",
    "# soup = BeautifulSoup(content)\n"
   ]
  },
  {
   "cell_type": "code",
   "execution_count": 41,
   "metadata": {
    "collapsed": true
   },
   "outputs": [],
   "source": [
    "r2 = requests.get(URL_builder('aa955d9919794bb9a66785e7c52c3cb5', '20170101', '20170101'))"
   ]
  },
  {
   "cell_type": "code",
   "execution_count": 38,
   "metadata": {
    "collapsed": false,
    "scrolled": true
   },
   "outputs": [
    {
     "name": "stdout",
     "output_type": "stream",
     "text": [
      "A Presidential Golf Outing, With a Twist: Trump Owns the Place\n",
      "2017-02-12T01:33:28+0000\n",
      "Japan Defense Minister Says Gathering Information on North Korea Missile Launch\n",
      "2017-02-12T01:30:30+0000\n",
      "Cartel Power Struggle Fuelling Rising Violence in Mexico-Official\n",
      "2017-02-12T01:30:28+0000\n"
     ]
    }
   ],
   "source": [
    "for item in f1['response']['docs']: \n",
    "    if 'main' in item['headline'].keys():\n",
    "        print(item['headline']['main'])\n",
    "        print(item['pub_date'])"
   ]
  }
 ],
 "metadata": {
  "kernelspec": {
   "display_name": "Python 3",
   "language": "python",
   "name": "python3"
  },
  "language_info": {
   "codemirror_mode": {
    "name": "ipython",
    "version": 3
   },
   "file_extension": ".py",
   "mimetype": "text/x-python",
   "name": "python",
   "nbconvert_exporter": "python",
   "pygments_lexer": "ipython3",
   "version": "3.6.0"
  }
 },
 "nbformat": 4,
 "nbformat_minor": 2
}
