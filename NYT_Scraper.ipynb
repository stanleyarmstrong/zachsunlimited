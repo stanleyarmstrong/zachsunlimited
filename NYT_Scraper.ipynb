{
 "cells": [
  {
   "cell_type": "code",
   "execution_count": 114,
   "metadata": {
    "collapsed": true
   },
   "outputs": [],
   "source": [
    "import pandas as pd \n",
    "import json\n",
    "import requests\n",
    "import re \n",
    "from nltk.corpus import stopwords\n",
    "from nltk.stem.porter import PorterStemmer\n",
    "stopwords = set(stopwords.words(\"english\"))\n",
    "stemmer = PorterStemmer()"
   ]
  },
  {
   "cell_type": "code",
   "execution_count": 159,
   "metadata": {
    "collapsed": false
   },
   "outputs": [],
   "source": [
    "from watson_developer_cloud import AuthorizationV1 as WatsonAuthorization\n",
    "from watson_developer_cloud import AlchemyLanguageV1 as AlchemyLanguage"
   ]
  },
  {
   "cell_type": "code",
   "execution_count": 162,
   "metadata": {
    "collapsed": true
   },
   "outputs": [],
   "source": [
    "import os "
   ]
  },
  {
   "cell_type": "code",
   "execution_count": 163,
   "metadata": {
    "collapsed": false
   },
   "outputs": [],
   "source": [
    "alchemy = AlchemyLanguage(api_key=os.environ.get(\"ALCHEMY_API_KEY\"))"
   ]
  },
  {
   "cell_type": "code",
   "execution_count": 68,
   "metadata": {
    "collapsed": true
   },
   "outputs": [],
   "source": [
    "def URL_builder(api_key, begin_date, end_date, page=0):\n",
    "    '''\n",
    "    INPUT: NYT API key, begin date (YYYYMMDD), end date, page\n",
    "    OUTPUT: URL with JSON information about given day's headlines \n",
    "    '''\n",
    "    URL = 'https://api.nytimes.com/svc/search/v2/articlesearch.json?{}={}&{}={}&{}={}&{}={}&fq=news_desk:(\"World\")'.\\\n",
    "        format('api-key', api_key, 'begin-date', begin_date, 'end-date', end_date, 'page', page)\n",
    "    return URL"
   ]
  },
  {
   "cell_type": "code",
   "execution_count": 244,
   "metadata": {
    "collapsed": false
   },
   "outputs": [],
   "source": [
    "def get_week_strings(seed):\n",
    "    return [str(i+1) for i in range(seed-7, seed)]\n",
    "\n",
    "def create_headline_df(date_list):\n",
    "    '''\n",
    "    INPUT: date in format 'YYYYMMDD' (Calling multiple dates can time out API)\n",
    "    OUTPUT: Pandas dataframe with columns for headlines and associated date \n",
    "    '''\n",
    "    api_key = 'aa955d9919794bb9a66785e7c52c3cb5'\n",
    "    data_tuples = []\n",
    "    for date in date_list:\n",
    "        print(date)\n",
    "        re = requests.get(URL_builder(api_key, date, date), timeout = 1000)\n",
    "        json_dict = json.loads(re.text)\n",
    "\n",
    "    #         JSON Dictionaries are pretty icky ... we'll crawl through them and find what we need \n",
    "        for item in json_dict['response']['docs']: \n",
    "            if 'main' in item['headline'].keys():\n",
    "    #           data_tuples.append((item['pub_date'], item['headline']['main']))\n",
    "                data_tuples.append((date, item['headline']['main']))\n",
    "\n",
    "    labels = ['Date', 'Headline']\n",
    "    return pd.DataFrame.from_records(data_tuples, columns=labels)\n",
    "        "
   ]
  },
  {
   "cell_type": "code",
   "execution_count": 257,
   "metadata": {
    "collapsed": false
   },
   "outputs": [],
   "source": [
    "api_key = 'aa955d9919794bb9a66785e7c52c3cb5'\n",
    "date = '20170211'\n",
    "re = requests.get(URL_builder(api_key, date, '20170129'), timeout = 1000)\n",
    "json_dict = json.loads(re.text)\n",
    "data_tuples = []\n",
    "    #         JSON Dictionaries are pretty icky ... we'll crawl through them and find what we need \n",
    "for item in json_dict['response']['docs']: \n",
    "    if 'main' in item['headline'].keys():\n",
    "#           data_tuples.append((item['pub_date'], item['headline']['main']))\n",
    "        data_tuples.append((date, item['headline']['main']))\n"
   ]
  },
  {
   "cell_type": "code",
   "execution_count": 258,
   "metadata": {
    "collapsed": false
   },
   "outputs": [
    {
     "data": {
      "text/plain": [
       "[('20170211', 'Deadly Earthquake in the Philippines'),\n",
       " ('20170211',\n",
       "  \"Trump to Abe: 'U.S.-Japan Alliance is the Cornerstone of Peace and Stability'\"),\n",
       " ('20170211', 'Iranian President Urges \"Respect and Reverence\" for Country'),\n",
       " ('20170211', 'A Slap on the Wrist for Aiding Migrants'),\n",
       " ('20170211', 'Explanatory Memorandum by Muslim Brotherhood From 1991'),\n",
       " ('20170211', 'Scottish Lawmakers Whistle the European Anthem'),\n",
       " ('20170211', 'Pope’s Plea: Pray for Myanmar Muslims'),\n",
       " ('20170211', 'Before the Wall: Life Along the U.S.-Mexico Border'),\n",
       " ('20170211', 'Iran’s Supreme Leader ‘Thankful’ for Trump'),\n",
       " ('20170211', 'On a Secret Expedition to Old Hong Kong')]"
      ]
     },
     "execution_count": 258,
     "metadata": {},
     "output_type": "execute_result"
    }
   ],
   "source": [
    "data_tuples"
   ]
  },
  {
   "cell_type": "code",
   "execution_count": null,
   "metadata": {
    "collapsed": true
   },
   "outputs": [],
   "source": [
    "get_week_strings(seed)"
   ]
  },
  {
   "cell_type": "code",
   "execution_count": 245,
   "metadata": {
    "collapsed": false
   },
   "outputs": [
    {
     "name": "stdout",
     "output_type": "stream",
     "text": [
      "20170125\n",
      "20170126\n",
      "20170127\n",
      "20170128\n",
      "20170129\n",
      "20170130\n",
      "20170131\n"
     ]
    },
    {
     "data": {
      "text/html": [
       "<div>\n",
       "<table border=\"1\" class=\"dataframe\">\n",
       "  <thead>\n",
       "    <tr style=\"text-align: right;\">\n",
       "      <th></th>\n",
       "      <th>Date</th>\n",
       "      <th>Headline</th>\n",
       "    </tr>\n",
       "  </thead>\n",
       "  <tbody>\n",
       "    <tr>\n",
       "      <th>0</th>\n",
       "      <td>20170125</td>\n",
       "      <td>Deadly Earthquake in the Philippines</td>\n",
       "    </tr>\n",
       "    <tr>\n",
       "      <th>1</th>\n",
       "      <td>20170125</td>\n",
       "      <td>Trump to Abe: 'U.S.-Japan Alliance is the Corn...</td>\n",
       "    </tr>\n",
       "    <tr>\n",
       "      <th>2</th>\n",
       "      <td>20170125</td>\n",
       "      <td>Iranian President Urges \"Respect and Reverence...</td>\n",
       "    </tr>\n",
       "    <tr>\n",
       "      <th>3</th>\n",
       "      <td>20170125</td>\n",
       "      <td>A Slap on the Wrist for Aiding Migrants</td>\n",
       "    </tr>\n",
       "    <tr>\n",
       "      <th>4</th>\n",
       "      <td>20170125</td>\n",
       "      <td>Explanatory Memorandum by Muslim Brotherhood F...</td>\n",
       "    </tr>\n",
       "    <tr>\n",
       "      <th>5</th>\n",
       "      <td>20170125</td>\n",
       "      <td>Scottish Lawmakers Whistle the European Anthem</td>\n",
       "    </tr>\n",
       "    <tr>\n",
       "      <th>6</th>\n",
       "      <td>20170125</td>\n",
       "      <td>Pope’s Plea: Pray for Myanmar Muslims</td>\n",
       "    </tr>\n",
       "    <tr>\n",
       "      <th>7</th>\n",
       "      <td>20170125</td>\n",
       "      <td>Before the Wall: Life Along the U.S.-Mexico Bo...</td>\n",
       "    </tr>\n",
       "    <tr>\n",
       "      <th>8</th>\n",
       "      <td>20170125</td>\n",
       "      <td>Iran’s Supreme Leader ‘Thankful’ for Trump</td>\n",
       "    </tr>\n",
       "    <tr>\n",
       "      <th>9</th>\n",
       "      <td>20170125</td>\n",
       "      <td>On a Secret Expedition to Old Hong Kong</td>\n",
       "    </tr>\n",
       "    <tr>\n",
       "      <th>10</th>\n",
       "      <td>20170126</td>\n",
       "      <td>Deadly Earthquake in the Philippines</td>\n",
       "    </tr>\n",
       "    <tr>\n",
       "      <th>11</th>\n",
       "      <td>20170126</td>\n",
       "      <td>Trump to Abe: 'U.S.-Japan Alliance is the Corn...</td>\n",
       "    </tr>\n",
       "    <tr>\n",
       "      <th>12</th>\n",
       "      <td>20170126</td>\n",
       "      <td>Iranian President Urges \"Respect and Reverence...</td>\n",
       "    </tr>\n",
       "    <tr>\n",
       "      <th>13</th>\n",
       "      <td>20170126</td>\n",
       "      <td>A Slap on the Wrist for Aiding Migrants</td>\n",
       "    </tr>\n",
       "    <tr>\n",
       "      <th>14</th>\n",
       "      <td>20170126</td>\n",
       "      <td>Explanatory Memorandum by Muslim Brotherhood F...</td>\n",
       "    </tr>\n",
       "    <tr>\n",
       "      <th>15</th>\n",
       "      <td>20170126</td>\n",
       "      <td>Scottish Lawmakers Whistle the European Anthem</td>\n",
       "    </tr>\n",
       "    <tr>\n",
       "      <th>16</th>\n",
       "      <td>20170126</td>\n",
       "      <td>Pope’s Plea: Pray for Myanmar Muslims</td>\n",
       "    </tr>\n",
       "    <tr>\n",
       "      <th>17</th>\n",
       "      <td>20170126</td>\n",
       "      <td>Before the Wall: Life Along the U.S.-Mexico Bo...</td>\n",
       "    </tr>\n",
       "    <tr>\n",
       "      <th>18</th>\n",
       "      <td>20170126</td>\n",
       "      <td>Iran’s Supreme Leader ‘Thankful’ for Trump</td>\n",
       "    </tr>\n",
       "    <tr>\n",
       "      <th>19</th>\n",
       "      <td>20170126</td>\n",
       "      <td>On a Secret Expedition to Old Hong Kong</td>\n",
       "    </tr>\n",
       "    <tr>\n",
       "      <th>20</th>\n",
       "      <td>20170127</td>\n",
       "      <td>Deadly Earthquake in the Philippines</td>\n",
       "    </tr>\n",
       "    <tr>\n",
       "      <th>21</th>\n",
       "      <td>20170127</td>\n",
       "      <td>Trump to Abe: 'U.S.-Japan Alliance is the Corn...</td>\n",
       "    </tr>\n",
       "    <tr>\n",
       "      <th>22</th>\n",
       "      <td>20170127</td>\n",
       "      <td>Iranian President Urges \"Respect and Reverence...</td>\n",
       "    </tr>\n",
       "    <tr>\n",
       "      <th>23</th>\n",
       "      <td>20170127</td>\n",
       "      <td>A Slap on the Wrist for Aiding Migrants</td>\n",
       "    </tr>\n",
       "    <tr>\n",
       "      <th>24</th>\n",
       "      <td>20170127</td>\n",
       "      <td>Explanatory Memorandum by Muslim Brotherhood F...</td>\n",
       "    </tr>\n",
       "    <tr>\n",
       "      <th>25</th>\n",
       "      <td>20170127</td>\n",
       "      <td>Scottish Lawmakers Whistle the European Anthem</td>\n",
       "    </tr>\n",
       "    <tr>\n",
       "      <th>26</th>\n",
       "      <td>20170127</td>\n",
       "      <td>Pope’s Plea: Pray for Myanmar Muslims</td>\n",
       "    </tr>\n",
       "    <tr>\n",
       "      <th>27</th>\n",
       "      <td>20170127</td>\n",
       "      <td>Before the Wall: Life Along the U.S.-Mexico Bo...</td>\n",
       "    </tr>\n",
       "    <tr>\n",
       "      <th>28</th>\n",
       "      <td>20170127</td>\n",
       "      <td>Iran’s Supreme Leader ‘Thankful’ for Trump</td>\n",
       "    </tr>\n",
       "    <tr>\n",
       "      <th>29</th>\n",
       "      <td>20170127</td>\n",
       "      <td>On a Secret Expedition to Old Hong Kong</td>\n",
       "    </tr>\n",
       "    <tr>\n",
       "      <th>...</th>\n",
       "      <td>...</td>\n",
       "      <td>...</td>\n",
       "    </tr>\n",
       "    <tr>\n",
       "      <th>40</th>\n",
       "      <td>20170129</td>\n",
       "      <td>Deadly Earthquake in the Philippines</td>\n",
       "    </tr>\n",
       "    <tr>\n",
       "      <th>41</th>\n",
       "      <td>20170129</td>\n",
       "      <td>Trump to Abe: 'U.S.-Japan Alliance is the Corn...</td>\n",
       "    </tr>\n",
       "    <tr>\n",
       "      <th>42</th>\n",
       "      <td>20170129</td>\n",
       "      <td>Iranian President Urges \"Respect and Reverence...</td>\n",
       "    </tr>\n",
       "    <tr>\n",
       "      <th>43</th>\n",
       "      <td>20170129</td>\n",
       "      <td>A Slap on the Wrist for Aiding Migrants</td>\n",
       "    </tr>\n",
       "    <tr>\n",
       "      <th>44</th>\n",
       "      <td>20170129</td>\n",
       "      <td>Explanatory Memorandum by Muslim Brotherhood F...</td>\n",
       "    </tr>\n",
       "    <tr>\n",
       "      <th>45</th>\n",
       "      <td>20170129</td>\n",
       "      <td>Scottish Lawmakers Whistle the European Anthem</td>\n",
       "    </tr>\n",
       "    <tr>\n",
       "      <th>46</th>\n",
       "      <td>20170129</td>\n",
       "      <td>Pope’s Plea: Pray for Myanmar Muslims</td>\n",
       "    </tr>\n",
       "    <tr>\n",
       "      <th>47</th>\n",
       "      <td>20170129</td>\n",
       "      <td>Before the Wall: Life Along the U.S.-Mexico Bo...</td>\n",
       "    </tr>\n",
       "    <tr>\n",
       "      <th>48</th>\n",
       "      <td>20170129</td>\n",
       "      <td>Iran’s Supreme Leader ‘Thankful’ for Trump</td>\n",
       "    </tr>\n",
       "    <tr>\n",
       "      <th>49</th>\n",
       "      <td>20170129</td>\n",
       "      <td>On a Secret Expedition to Old Hong Kong</td>\n",
       "    </tr>\n",
       "    <tr>\n",
       "      <th>50</th>\n",
       "      <td>20170130</td>\n",
       "      <td>Deadly Earthquake in the Philippines</td>\n",
       "    </tr>\n",
       "    <tr>\n",
       "      <th>51</th>\n",
       "      <td>20170130</td>\n",
       "      <td>Trump to Abe: 'U.S.-Japan Alliance is the Corn...</td>\n",
       "    </tr>\n",
       "    <tr>\n",
       "      <th>52</th>\n",
       "      <td>20170130</td>\n",
       "      <td>Iranian President Urges \"Respect and Reverence...</td>\n",
       "    </tr>\n",
       "    <tr>\n",
       "      <th>53</th>\n",
       "      <td>20170130</td>\n",
       "      <td>A Slap on the Wrist for Aiding Migrants</td>\n",
       "    </tr>\n",
       "    <tr>\n",
       "      <th>54</th>\n",
       "      <td>20170130</td>\n",
       "      <td>Explanatory Memorandum by Muslim Brotherhood F...</td>\n",
       "    </tr>\n",
       "    <tr>\n",
       "      <th>55</th>\n",
       "      <td>20170130</td>\n",
       "      <td>Scottish Lawmakers Whistle the European Anthem</td>\n",
       "    </tr>\n",
       "    <tr>\n",
       "      <th>56</th>\n",
       "      <td>20170130</td>\n",
       "      <td>Pope’s Plea: Pray for Myanmar Muslims</td>\n",
       "    </tr>\n",
       "    <tr>\n",
       "      <th>57</th>\n",
       "      <td>20170130</td>\n",
       "      <td>Before the Wall: Life Along the U.S.-Mexico Bo...</td>\n",
       "    </tr>\n",
       "    <tr>\n",
       "      <th>58</th>\n",
       "      <td>20170130</td>\n",
       "      <td>Iran’s Supreme Leader ‘Thankful’ for Trump</td>\n",
       "    </tr>\n",
       "    <tr>\n",
       "      <th>59</th>\n",
       "      <td>20170130</td>\n",
       "      <td>On a Secret Expedition to Old Hong Kong</td>\n",
       "    </tr>\n",
       "    <tr>\n",
       "      <th>60</th>\n",
       "      <td>20170131</td>\n",
       "      <td>Deadly Earthquake in the Philippines</td>\n",
       "    </tr>\n",
       "    <tr>\n",
       "      <th>61</th>\n",
       "      <td>20170131</td>\n",
       "      <td>Trump to Abe: 'U.S.-Japan Alliance is the Corn...</td>\n",
       "    </tr>\n",
       "    <tr>\n",
       "      <th>62</th>\n",
       "      <td>20170131</td>\n",
       "      <td>Iranian President Urges \"Respect and Reverence...</td>\n",
       "    </tr>\n",
       "    <tr>\n",
       "      <th>63</th>\n",
       "      <td>20170131</td>\n",
       "      <td>A Slap on the Wrist for Aiding Migrants</td>\n",
       "    </tr>\n",
       "    <tr>\n",
       "      <th>64</th>\n",
       "      <td>20170131</td>\n",
       "      <td>Explanatory Memorandum by Muslim Brotherhood F...</td>\n",
       "    </tr>\n",
       "    <tr>\n",
       "      <th>65</th>\n",
       "      <td>20170131</td>\n",
       "      <td>Scottish Lawmakers Whistle the European Anthem</td>\n",
       "    </tr>\n",
       "    <tr>\n",
       "      <th>66</th>\n",
       "      <td>20170131</td>\n",
       "      <td>Pope’s Plea: Pray for Myanmar Muslims</td>\n",
       "    </tr>\n",
       "    <tr>\n",
       "      <th>67</th>\n",
       "      <td>20170131</td>\n",
       "      <td>Before the Wall: Life Along the U.S.-Mexico Bo...</td>\n",
       "    </tr>\n",
       "    <tr>\n",
       "      <th>68</th>\n",
       "      <td>20170131</td>\n",
       "      <td>Iran’s Supreme Leader ‘Thankful’ for Trump</td>\n",
       "    </tr>\n",
       "    <tr>\n",
       "      <th>69</th>\n",
       "      <td>20170131</td>\n",
       "      <td>On a Secret Expedition to Old Hong Kong</td>\n",
       "    </tr>\n",
       "  </tbody>\n",
       "</table>\n",
       "<p>70 rows × 2 columns</p>\n",
       "</div>"
      ],
      "text/plain": [
       "        Date                                           Headline\n",
       "0   20170125               Deadly Earthquake in the Philippines\n",
       "1   20170125  Trump to Abe: 'U.S.-Japan Alliance is the Corn...\n",
       "2   20170125  Iranian President Urges \"Respect and Reverence...\n",
       "3   20170125            A Slap on the Wrist for Aiding Migrants\n",
       "4   20170125  Explanatory Memorandum by Muslim Brotherhood F...\n",
       "5   20170125     Scottish Lawmakers Whistle the European Anthem\n",
       "6   20170125              Pope’s Plea: Pray for Myanmar Muslims\n",
       "7   20170125  Before the Wall: Life Along the U.S.-Mexico Bo...\n",
       "8   20170125         Iran’s Supreme Leader ‘Thankful’ for Trump\n",
       "9   20170125            On a Secret Expedition to Old Hong Kong\n",
       "10  20170126               Deadly Earthquake in the Philippines\n",
       "11  20170126  Trump to Abe: 'U.S.-Japan Alliance is the Corn...\n",
       "12  20170126  Iranian President Urges \"Respect and Reverence...\n",
       "13  20170126            A Slap on the Wrist for Aiding Migrants\n",
       "14  20170126  Explanatory Memorandum by Muslim Brotherhood F...\n",
       "15  20170126     Scottish Lawmakers Whistle the European Anthem\n",
       "16  20170126              Pope’s Plea: Pray for Myanmar Muslims\n",
       "17  20170126  Before the Wall: Life Along the U.S.-Mexico Bo...\n",
       "18  20170126         Iran’s Supreme Leader ‘Thankful’ for Trump\n",
       "19  20170126            On a Secret Expedition to Old Hong Kong\n",
       "20  20170127               Deadly Earthquake in the Philippines\n",
       "21  20170127  Trump to Abe: 'U.S.-Japan Alliance is the Corn...\n",
       "22  20170127  Iranian President Urges \"Respect and Reverence...\n",
       "23  20170127            A Slap on the Wrist for Aiding Migrants\n",
       "24  20170127  Explanatory Memorandum by Muslim Brotherhood F...\n",
       "25  20170127     Scottish Lawmakers Whistle the European Anthem\n",
       "26  20170127              Pope’s Plea: Pray for Myanmar Muslims\n",
       "27  20170127  Before the Wall: Life Along the U.S.-Mexico Bo...\n",
       "28  20170127         Iran’s Supreme Leader ‘Thankful’ for Trump\n",
       "29  20170127            On a Secret Expedition to Old Hong Kong\n",
       "..       ...                                                ...\n",
       "40  20170129               Deadly Earthquake in the Philippines\n",
       "41  20170129  Trump to Abe: 'U.S.-Japan Alliance is the Corn...\n",
       "42  20170129  Iranian President Urges \"Respect and Reverence...\n",
       "43  20170129            A Slap on the Wrist for Aiding Migrants\n",
       "44  20170129  Explanatory Memorandum by Muslim Brotherhood F...\n",
       "45  20170129     Scottish Lawmakers Whistle the European Anthem\n",
       "46  20170129              Pope’s Plea: Pray for Myanmar Muslims\n",
       "47  20170129  Before the Wall: Life Along the U.S.-Mexico Bo...\n",
       "48  20170129         Iran’s Supreme Leader ‘Thankful’ for Trump\n",
       "49  20170129            On a Secret Expedition to Old Hong Kong\n",
       "50  20170130               Deadly Earthquake in the Philippines\n",
       "51  20170130  Trump to Abe: 'U.S.-Japan Alliance is the Corn...\n",
       "52  20170130  Iranian President Urges \"Respect and Reverence...\n",
       "53  20170130            A Slap on the Wrist for Aiding Migrants\n",
       "54  20170130  Explanatory Memorandum by Muslim Brotherhood F...\n",
       "55  20170130     Scottish Lawmakers Whistle the European Anthem\n",
       "56  20170130              Pope’s Plea: Pray for Myanmar Muslims\n",
       "57  20170130  Before the Wall: Life Along the U.S.-Mexico Bo...\n",
       "58  20170130         Iran’s Supreme Leader ‘Thankful’ for Trump\n",
       "59  20170130            On a Secret Expedition to Old Hong Kong\n",
       "60  20170131               Deadly Earthquake in the Philippines\n",
       "61  20170131  Trump to Abe: 'U.S.-Japan Alliance is the Corn...\n",
       "62  20170131  Iranian President Urges \"Respect and Reverence...\n",
       "63  20170131            A Slap on the Wrist for Aiding Migrants\n",
       "64  20170131  Explanatory Memorandum by Muslim Brotherhood F...\n",
       "65  20170131     Scottish Lawmakers Whistle the European Anthem\n",
       "66  20170131              Pope’s Plea: Pray for Myanmar Muslims\n",
       "67  20170131  Before the Wall: Life Along the U.S.-Mexico Bo...\n",
       "68  20170131         Iran’s Supreme Leader ‘Thankful’ for Trump\n",
       "69  20170131            On a Secret Expedition to Old Hong Kong\n",
       "\n",
       "[70 rows x 2 columns]"
      ]
     },
     "execution_count": 245,
     "metadata": {},
     "output_type": "execute_result"
    }
   ],
   "source": [
    "create_headline_df(get_week_strings(20170131))"
   ]
  },
  {
   "cell_type": "code",
   "execution_count": 246,
   "metadata": {
    "collapsed": true
   },
   "outputs": [],
   "source": [
    "df = word_cleaning(_)"
   ]
  },
  {
   "cell_type": "code",
   "execution_count": 247,
   "metadata": {
    "collapsed": false
   },
   "outputs": [
    {
     "data": {
      "text/html": [
       "<div>\n",
       "<table border=\"1\" class=\"dataframe\">\n",
       "  <thead>\n",
       "    <tr style=\"text-align: right;\">\n",
       "      <th></th>\n",
       "      <th>Date</th>\n",
       "      <th>headline_words</th>\n",
       "    </tr>\n",
       "  </thead>\n",
       "  <tbody>\n",
       "    <tr>\n",
       "      <th>0</th>\n",
       "      <td>20170125</td>\n",
       "      <td>deadly earthquake philippines trump abe usjapa...</td>\n",
       "    </tr>\n",
       "    <tr>\n",
       "      <th>1</th>\n",
       "      <td>20170126</td>\n",
       "      <td>deadly earthquake philippines trump abe usjapa...</td>\n",
       "    </tr>\n",
       "    <tr>\n",
       "      <th>2</th>\n",
       "      <td>20170127</td>\n",
       "      <td>deadly earthquake philippines trump abe usjapa...</td>\n",
       "    </tr>\n",
       "    <tr>\n",
       "      <th>3</th>\n",
       "      <td>20170128</td>\n",
       "      <td>deadly earthquake philippines trump abe usjapa...</td>\n",
       "    </tr>\n",
       "    <tr>\n",
       "      <th>4</th>\n",
       "      <td>20170129</td>\n",
       "      <td>deadly earthquake philippines trump abe usjapa...</td>\n",
       "    </tr>\n",
       "    <tr>\n",
       "      <th>5</th>\n",
       "      <td>20170130</td>\n",
       "      <td>deadly earthquake philippines trump abe usjapa...</td>\n",
       "    </tr>\n",
       "    <tr>\n",
       "      <th>6</th>\n",
       "      <td>20170131</td>\n",
       "      <td>deadly earthquake philippines trump abe usjapa...</td>\n",
       "    </tr>\n",
       "  </tbody>\n",
       "</table>\n",
       "</div>"
      ],
      "text/plain": [
       "       Date                                     headline_words\n",
       "0  20170125  deadly earthquake philippines trump abe usjapa...\n",
       "1  20170126  deadly earthquake philippines trump abe usjapa...\n",
       "2  20170127  deadly earthquake philippines trump abe usjapa...\n",
       "3  20170128  deadly earthquake philippines trump abe usjapa...\n",
       "4  20170129  deadly earthquake philippines trump abe usjapa...\n",
       "5  20170130  deadly earthquake philippines trump abe usjapa...\n",
       "6  20170131  deadly earthquake philippines trump abe usjapa..."
      ]
     },
     "execution_count": 247,
     "metadata": {},
     "output_type": "execute_result"
    }
   ],
   "source": [
    "df"
   ]
  },
  {
   "cell_type": "code",
   "execution_count": 205,
   "metadata": {
    "collapsed": false
   },
   "outputs": [],
   "source": [
    "def word_cleaning(df):\n",
    "    '''\n",
    "    OUTPUT: Dataframe, grouped by date, Headline is stemmed headline words \n",
    "    '''\n",
    "    data_tuples = []\n",
    "    # Look at each date, clean strings, remove stopwords, etc.\n",
    "    for row in df.groupby('Date').agg(lambda x : ' '.join(x)).iterrows():\n",
    "        words = row[1]['Headline']\n",
    "        #Clean darta \n",
    "        letters_only = re.sub(\"[^\\sa-zA-Z]\", \"\", words) \n",
    "        tokenized_words = [word for word in letters_only.lower().split() if not word in stopwords]\n",
    "        word_cloud = ' '.join(tokenized_words)\n",
    "        data_tuples.append((row[0], word_cloud))\n",
    "    labels = ['Date', 'headline_words']\n",
    "    \n",
    "    #Return results as pandas dataframe \n",
    "    return pd.DataFrame.from_records(data_tuples, columns=labels)"
   ]
  },
  {
   "cell_type": "code",
   "execution_count": 229,
   "metadata": {
    "collapsed": true
   },
   "outputs": [],
   "source": [
    "def get_sentiment(df):\n",
    "    '''\n",
    "    INPUT: Pandas dataframe with date and words\n",
    "    OUTPUT: Score of how terrible the day was\n",
    "    '''\n",
    "    row_avg_scores = []\n",
    "    for row in df.iterrows():\n",
    "        score = 0 \n",
    "        for word in row[1]['headline_words'].split():\n",
    "            print(word)\n",
    "            print('-')\n",
    "            result = alchemy.sentiment(word)\n",
    "            try:\n",
    "                val = float(result['docSentiment']['score']) \n",
    "            except KeyError: #neutral words \n",
    "                val = 0\n",
    "            score += val \n",
    "        row_avg_scores.append((row[1]['Date'], score/len(row[1]['headline_words'])))\n",
    "    labels = ['Date', 'avg_score']\n",
    "    return pd.DataFrame.from_records(row_avg_scores, columns=labels)"
   ]
  },
  {
   "cell_type": "code",
   "execution_count": 177,
   "metadata": {
    "collapsed": false
   },
   "outputs": [],
   "source": [
    "sent_obj = alchemy.sentiment(\"earthquake\")"
   ]
  },
  {
   "cell_type": "code",
   "execution_count": 182,
   "metadata": {
    "collapsed": false
   },
   "outputs": [
    {
     "data": {
      "text/plain": [
       "-0.406711"
      ]
     },
     "execution_count": 182,
     "metadata": {},
     "output_type": "execute_result"
    }
   ],
   "source": [
    "float(sent_obj['docSentiment']['score'])"
   ]
  },
  {
   "cell_type": "code",
   "execution_count": 189,
   "metadata": {
    "collapsed": true
   },
   "outputs": [],
   "source": [
    "sent_obj = alchemy.sentiment(\"Zachary\")"
   ]
  },
  {
   "cell_type": "code",
   "execution_count": 191,
   "metadata": {
    "collapsed": false
   },
   "outputs": [
    {
     "data": {
      "text/plain": [
       "{'type': 'neutral'}"
      ]
     },
     "execution_count": 191,
     "metadata": {},
     "output_type": "execute_result"
    }
   ],
   "source": [
    "sent_obj['docSentiment']"
   ]
  },
  {
   "cell_type": "code",
   "execution_count": 185,
   "metadata": {
    "collapsed": false
   },
   "outputs": [
    {
     "ename": "KeyError",
     "evalue": "'score'",
     "output_type": "error",
     "traceback": [
      "\u001b[0;31m---------------------------------------------------------------------------\u001b[0m",
      "\u001b[0;31mKeyError\u001b[0m                                  Traceback (most recent call last)",
      "\u001b[0;32m<ipython-input-185-6168e6a4e1ed>\u001b[0m in \u001b[0;36m<module>\u001b[0;34m()\u001b[0m\n\u001b[0;32m----> 1\u001b[0;31m \u001b[0msent_obj\u001b[0m\u001b[0;34m[\u001b[0m\u001b[0;34m'docSentiment'\u001b[0m\u001b[0;34m]\u001b[0m\u001b[0;34m[\u001b[0m\u001b[0;34m'score'\u001b[0m\u001b[0;34m]\u001b[0m\u001b[0;34m\u001b[0m\u001b[0m\n\u001b[0m",
      "\u001b[0;31mKeyError\u001b[0m: 'score'"
     ]
    }
   ],
   "source": [
    "try:\n",
    "    val = float(sent_obj['docSentiment']['score']) #KeyError\n",
    "except KeyError:\n",
    "    if sent_obj['docSentiment']['type'] == 'neutral':\n",
    "        val = 0 \n",
    "    #I don't think words get assigned score with positive/negative value, but just in case ... \n",
    "    elif sent_obj['docSentiment']['type'] == 'positive': \n",
    "        val = .25\n",
    "    else:\n",
    "        val = -.25"
   ]
  },
  {
   "cell_type": "code",
   "execution_count": 69,
   "metadata": {
    "collapsed": false
   },
   "outputs": [],
   "source": [
    "df = Create_Headline_Df('20170131')"
   ]
  },
  {
   "cell_type": "code",
   "execution_count": 206,
   "metadata": {
    "collapsed": false
   },
   "outputs": [],
   "source": [
    "dfbig = word_cleaning(df)"
   ]
  },
  {
   "cell_type": "code",
   "execution_count": 270,
   "metadata": {
    "collapsed": false
   },
   "outputs": [
    {
     "data": {
      "text/plain": [
       "['d',\n",
       " 'e',\n",
       " 'a',\n",
       " 'd',\n",
       " 'l',\n",
       " 'y',\n",
       " ' ',\n",
       " 'e',\n",
       " 'a',\n",
       " 'r',\n",
       " 't',\n",
       " 'h',\n",
       " 'q',\n",
       " 'u',\n",
       " 'a',\n",
       " 'k',\n",
       " 'e',\n",
       " ' ',\n",
       " 'p',\n",
       " 'h',\n",
       " 'i',\n",
       " 'l',\n",
       " 'i',\n",
       " 'p',\n",
       " 'p',\n",
       " 'i',\n",
       " 'n',\n",
       " 'e',\n",
       " 's',\n",
       " ' ',\n",
       " 't',\n",
       " 'r',\n",
       " 'u',\n",
       " 'm',\n",
       " 'p',\n",
       " ' ',\n",
       " 'a',\n",
       " 'b',\n",
       " 'e',\n",
       " ' ',\n",
       " 'u',\n",
       " 's',\n",
       " 'j',\n",
       " 'a',\n",
       " 'p',\n",
       " 'a',\n",
       " 'n',\n",
       " ' ',\n",
       " 'a',\n",
       " 'l',\n",
       " 'l',\n",
       " 'i',\n",
       " 'a',\n",
       " 'n',\n",
       " 'c',\n",
       " 'e',\n",
       " ' ',\n",
       " 'c',\n",
       " 'o',\n",
       " 'r',\n",
       " 'n',\n",
       " 'e',\n",
       " 'r',\n",
       " 's',\n",
       " 't',\n",
       " 'o',\n",
       " 'n',\n",
       " 'e',\n",
       " ' ',\n",
       " 'p',\n",
       " 'e',\n",
       " 'a',\n",
       " 'c',\n",
       " 'e',\n",
       " ' ',\n",
       " 's',\n",
       " 't',\n",
       " 'a',\n",
       " 'b',\n",
       " 'i',\n",
       " 'l',\n",
       " 'i',\n",
       " 't',\n",
       " 'y',\n",
       " ' ',\n",
       " 'i',\n",
       " 'r',\n",
       " 'a',\n",
       " 'n',\n",
       " 'i',\n",
       " 'a',\n",
       " 'n',\n",
       " ' ',\n",
       " 'p',\n",
       " 'r',\n",
       " 'e',\n",
       " 's',\n",
       " 'i',\n",
       " 'd',\n",
       " 'e',\n",
       " 'n',\n",
       " 't',\n",
       " ' ',\n",
       " 'u',\n",
       " 'r',\n",
       " 'g',\n",
       " 'e',\n",
       " 's',\n",
       " ' ',\n",
       " 'r',\n",
       " 'e',\n",
       " 's',\n",
       " 'p',\n",
       " 'e',\n",
       " 'c',\n",
       " 't',\n",
       " ' ',\n",
       " 'r',\n",
       " 'e',\n",
       " 'v',\n",
       " 'e',\n",
       " 'r',\n",
       " 'e',\n",
       " 'n',\n",
       " 'c',\n",
       " 'e',\n",
       " ' ',\n",
       " 'c',\n",
       " 'o',\n",
       " 'u',\n",
       " 'n',\n",
       " 't',\n",
       " 'r',\n",
       " 'y',\n",
       " ' ',\n",
       " 's',\n",
       " 'l',\n",
       " 'a',\n",
       " 'p',\n",
       " ' ',\n",
       " 'w',\n",
       " 'r',\n",
       " 'i',\n",
       " 's',\n",
       " 't',\n",
       " ' ',\n",
       " 'a',\n",
       " 'i',\n",
       " 'd',\n",
       " 'i',\n",
       " 'n',\n",
       " 'g',\n",
       " ' ',\n",
       " 'm',\n",
       " 'i',\n",
       " 'g',\n",
       " 'r',\n",
       " 'a',\n",
       " 'n',\n",
       " 't',\n",
       " 's',\n",
       " ' ',\n",
       " 'e',\n",
       " 'x',\n",
       " 'p',\n",
       " 'l',\n",
       " 'a',\n",
       " 'n',\n",
       " 'a',\n",
       " 't',\n",
       " 'o',\n",
       " 'r',\n",
       " 'y',\n",
       " ' ',\n",
       " 'm',\n",
       " 'e',\n",
       " 'm',\n",
       " 'o',\n",
       " 'r',\n",
       " 'a',\n",
       " 'n',\n",
       " 'd',\n",
       " 'u',\n",
       " 'm',\n",
       " ' ',\n",
       " 'm',\n",
       " 'u',\n",
       " 's',\n",
       " 'l',\n",
       " 'i',\n",
       " 'm',\n",
       " ' ',\n",
       " 'b',\n",
       " 'r',\n",
       " 'o',\n",
       " 't',\n",
       " 'h',\n",
       " 'e',\n",
       " 'r',\n",
       " 'h',\n",
       " 'o',\n",
       " 'o',\n",
       " 'd',\n",
       " ' ',\n",
       " 's',\n",
       " 'c',\n",
       " 'o',\n",
       " 't',\n",
       " 't',\n",
       " 'i',\n",
       " 's',\n",
       " 'h',\n",
       " ' ',\n",
       " 'l',\n",
       " 'a',\n",
       " 'w',\n",
       " 'm',\n",
       " 'a',\n",
       " 'k',\n",
       " 'e',\n",
       " 'r',\n",
       " 's',\n",
       " ' ',\n",
       " 'w',\n",
       " 'h',\n",
       " 'i',\n",
       " 's',\n",
       " 't',\n",
       " 'l',\n",
       " 'e',\n",
       " ' ',\n",
       " 'e',\n",
       " 'u',\n",
       " 'r',\n",
       " 'o',\n",
       " 'p',\n",
       " 'e',\n",
       " 'a',\n",
       " 'n',\n",
       " ' ',\n",
       " 'a',\n",
       " 'n',\n",
       " 't',\n",
       " 'h',\n",
       " 'e',\n",
       " 'm',\n",
       " ' ',\n",
       " 'p',\n",
       " 'o',\n",
       " 'p',\n",
       " 'e',\n",
       " 's',\n",
       " ' ',\n",
       " 'p',\n",
       " 'l',\n",
       " 'e',\n",
       " 'a',\n",
       " ' ',\n",
       " 'p',\n",
       " 'r',\n",
       " 'a',\n",
       " 'y',\n",
       " ' ',\n",
       " 'm',\n",
       " 'y',\n",
       " 'a',\n",
       " 'n',\n",
       " 'm',\n",
       " 'a',\n",
       " 'r',\n",
       " ' ',\n",
       " 'm',\n",
       " 'u',\n",
       " 's',\n",
       " 'l',\n",
       " 'i',\n",
       " 'm',\n",
       " 's',\n",
       " ' ',\n",
       " 'w',\n",
       " 'a',\n",
       " 'l',\n",
       " 'l',\n",
       " ' ',\n",
       " 'l',\n",
       " 'i',\n",
       " 'f',\n",
       " 'e',\n",
       " ' ',\n",
       " 'a',\n",
       " 'l',\n",
       " 'o',\n",
       " 'n',\n",
       " 'g',\n",
       " ' ',\n",
       " 'u',\n",
       " 's',\n",
       " 'm',\n",
       " 'e',\n",
       " 'x',\n",
       " 'i',\n",
       " 'c',\n",
       " 'o',\n",
       " ' ',\n",
       " 'b',\n",
       " 'o',\n",
       " 'r',\n",
       " 'd',\n",
       " 'e',\n",
       " 'r',\n",
       " ' ',\n",
       " 'i',\n",
       " 'r',\n",
       " 'a',\n",
       " 'n',\n",
       " 's',\n",
       " ' ',\n",
       " 's',\n",
       " 'u',\n",
       " 'p',\n",
       " 'r',\n",
       " 'e',\n",
       " 'm',\n",
       " 'e',\n",
       " ' ',\n",
       " 'l',\n",
       " 'e',\n",
       " 'a',\n",
       " 'd',\n",
       " 'e',\n",
       " 'r',\n",
       " ' ',\n",
       " 't',\n",
       " 'h',\n",
       " 'a',\n",
       " 'n',\n",
       " 'k',\n",
       " 'f',\n",
       " 'u',\n",
       " 'l',\n",
       " ' ',\n",
       " 't',\n",
       " 'r',\n",
       " 'u',\n",
       " 'm',\n",
       " 'p',\n",
       " ' ',\n",
       " 's',\n",
       " 'e',\n",
       " 'c',\n",
       " 'r',\n",
       " 'e',\n",
       " 't',\n",
       " ' ',\n",
       " 'e',\n",
       " 'x',\n",
       " 'p',\n",
       " 'e',\n",
       " 'd',\n",
       " 'i',\n",
       " 't',\n",
       " 'i',\n",
       " 'o',\n",
       " 'n',\n",
       " ' ',\n",
       " 'o',\n",
       " 'l',\n",
       " 'd',\n",
       " ' ',\n",
       " 'h',\n",
       " 'o',\n",
       " 'n',\n",
       " 'g',\n",
       " ' ',\n",
       " 'k',\n",
       " 'o',\n",
       " 'n',\n",
       " 'g']"
      ]
     },
     "execution_count": 270,
     "metadata": {},
     "output_type": "execute_result"
    }
   ],
   "source": [
    "dfbig.ix[0,'headline_words']"
   ]
  },
  {
   "cell_type": "code",
   "execution_count": 259,
   "metadata": {
    "collapsed": false
   },
   "outputs": [
    {
     "name": "stdout",
     "output_type": "stream",
     "text": [
      "deadly\n",
      "-\n",
      "earthquake\n",
      "-\n",
      "philippines\n",
      "-\n",
      "trump\n",
      "-\n",
      "abe\n",
      "-\n",
      "usjapan\n",
      "-\n",
      "alliance\n",
      "-\n",
      "cornerstone\n",
      "-\n",
      "peace\n",
      "-\n",
      "stability\n",
      "-\n",
      "iranian\n",
      "-\n",
      "president\n",
      "-\n",
      "urges\n",
      "-\n",
      "respect\n",
      "-\n",
      "reverence\n",
      "-\n",
      "country\n",
      "-\n",
      "slap\n",
      "-\n",
      "wrist\n",
      "-\n",
      "aiding\n",
      "-\n",
      "migrants\n",
      "-\n",
      "explanatory\n",
      "-\n",
      "memorandum\n",
      "-\n",
      "muslim\n",
      "-\n",
      "brotherhood\n",
      "-\n",
      "scottish\n",
      "-\n",
      "lawmakers\n",
      "-\n",
      "whistle\n",
      "-\n",
      "european\n",
      "-\n",
      "anthem\n",
      "-\n",
      "popes\n",
      "-\n",
      "plea\n",
      "-\n",
      "pray\n",
      "-\n",
      "myanmar\n",
      "-\n",
      "muslims\n",
      "-\n",
      "wall\n",
      "-\n",
      "life\n",
      "-\n",
      "along\n",
      "-\n",
      "usmexico\n",
      "-\n",
      "border\n",
      "-\n",
      "irans\n",
      "-\n",
      "supreme\n",
      "-\n",
      "leader\n",
      "-\n",
      "thankful\n",
      "-\n",
      "trump\n",
      "-\n",
      "secret\n",
      "-\n",
      "expedition\n",
      "-\n",
      "old\n",
      "-\n",
      "hong\n",
      "-\n",
      "kong\n",
      "-\n"
     ]
    }
   ],
   "source": [
    "dfsent = get_sentiment(dfbig)"
   ]
  },
  {
   "cell_type": "code",
   "execution_count": 262,
   "metadata": {
    "collapsed": false
   },
   "outputs": [
    {
     "data": {
      "text/plain": [
       "-0.0045865899470899476"
      ]
     },
     "execution_count": 262,
     "metadata": {},
     "output_type": "execute_result"
    }
   ],
   "source": [
    "dfsent.ix[0,'avg_score']"
   ]
  },
  {
   "cell_type": "code",
   "execution_count": 215,
   "metadata": {
    "collapsed": false
   },
   "outputs": [
    {
     "name": "stdout",
     "output_type": "stream",
     "text": [
      "deadly earthquake philippines trump abe usjapan alliance cornerstone peace stability iranian president urges respect reverence country slap wrist aiding migrants explanatory memorandum muslim brotherhood scottish lawmakers whistle european anthem popes plea pray myanmar muslims wall life along usmexico border irans supreme leader thankful trump secret expedition old hong kong\n",
      "20170131\n"
     ]
    }
   ],
   "source": [
    "for row in dfbig.iterrows():\n",
    "    print(row[1]['headline_words'])\n",
    "    print(row[1]['Date'])"
   ]
  },
  {
   "cell_type": "code",
   "execution_count": 133,
   "metadata": {
    "collapsed": false
   },
   "outputs": [
    {
     "name": "stdout",
     "output_type": "stream",
     "text": [
      "20170131\n"
     ]
    }
   ],
   "source": [
    "for row in df.groupby('Date').agg(lambda x : ' '.join(x)).iterrows():\n",
    "    print(row[0])"
   ]
  },
  {
   "cell_type": "code",
   "execution_count": 118,
   "metadata": {
    "collapsed": false
   },
   "outputs": [
    {
     "data": {
      "text/html": [
       "<div>\n",
       "<table border=\"1\" class=\"dataframe\">\n",
       "  <thead>\n",
       "    <tr style=\"text-align: right;\">\n",
       "      <th></th>\n",
       "      <th>Date</th>\n",
       "      <th>Headline</th>\n",
       "    </tr>\n",
       "  </thead>\n",
       "  <tbody>\n",
       "    <tr>\n",
       "      <th>0</th>\n",
       "      <td>20170131</td>\n",
       "      <td>Deadly Earthquake in the Philippines</td>\n",
       "    </tr>\n",
       "    <tr>\n",
       "      <th>1</th>\n",
       "      <td>20170131</td>\n",
       "      <td>Trump to Abe: 'U.S.-Japan Alliance is the Corn...</td>\n",
       "    </tr>\n",
       "    <tr>\n",
       "      <th>2</th>\n",
       "      <td>20170131</td>\n",
       "      <td>Iranian President Urges \"Respect and Reverence...</td>\n",
       "    </tr>\n",
       "    <tr>\n",
       "      <th>3</th>\n",
       "      <td>20170131</td>\n",
       "      <td>A Slap on the Wrist for Aiding Migrants</td>\n",
       "    </tr>\n",
       "    <tr>\n",
       "      <th>4</th>\n",
       "      <td>20170131</td>\n",
       "      <td>Explanatory Memorandum by Muslim Brotherhood F...</td>\n",
       "    </tr>\n",
       "    <tr>\n",
       "      <th>5</th>\n",
       "      <td>20170131</td>\n",
       "      <td>Scottish Lawmakers Whistle the European Anthem</td>\n",
       "    </tr>\n",
       "    <tr>\n",
       "      <th>6</th>\n",
       "      <td>20170131</td>\n",
       "      <td>Pope’s Plea: Pray for Myanmar Muslims</td>\n",
       "    </tr>\n",
       "    <tr>\n",
       "      <th>7</th>\n",
       "      <td>20170131</td>\n",
       "      <td>Before the Wall: Life Along the U.S.-Mexico Bo...</td>\n",
       "    </tr>\n",
       "    <tr>\n",
       "      <th>8</th>\n",
       "      <td>20170131</td>\n",
       "      <td>Iran’s Supreme Leader ‘Thankful’ for Trump</td>\n",
       "    </tr>\n",
       "    <tr>\n",
       "      <th>9</th>\n",
       "      <td>20170131</td>\n",
       "      <td>On a Secret Expedition to Old Hong Kong</td>\n",
       "    </tr>\n",
       "  </tbody>\n",
       "</table>\n",
       "</div>"
      ],
      "text/plain": [
       "       Date                                           Headline\n",
       "0  20170131               Deadly Earthquake in the Philippines\n",
       "1  20170131  Trump to Abe: 'U.S.-Japan Alliance is the Corn...\n",
       "2  20170131  Iranian President Urges \"Respect and Reverence...\n",
       "3  20170131            A Slap on the Wrist for Aiding Migrants\n",
       "4  20170131  Explanatory Memorandum by Muslim Brotherhood F...\n",
       "5  20170131     Scottish Lawmakers Whistle the European Anthem\n",
       "6  20170131              Pope’s Plea: Pray for Myanmar Muslims\n",
       "7  20170131  Before the Wall: Life Along the U.S.-Mexico Bo...\n",
       "8  20170131         Iran’s Supreme Leader ‘Thankful’ for Trump\n",
       "9  20170131            On a Secret Expedition to Old Hong Kong"
      ]
     },
     "execution_count": 118,
     "metadata": {},
     "output_type": "execute_result"
    }
   ],
   "source": [
    "df"
   ]
  },
  {
   "cell_type": "code",
   "execution_count": null,
   "metadata": {
    "collapsed": true
   },
   "outputs": [],
   "source": []
  },
  {
   "cell_type": "code",
   "execution_count": 116,
   "metadata": {
    "collapsed": false
   },
   "outputs": [],
   "source": [
    "for row in df.groupby('Date').agg(lambda x : ' '.join(x)).iterrows():\n",
    "    words = row[1]['Headline']\n",
    "    letters_only = re.sub(\"[^\\sa-zA-Z]\", \"\", words)\n",
    "    tokenized_words = [word for word in letters_only.lower().split() if not word in stopwords]\n",
    "#     cleaned_words = [stemmer.stem(word) for word in tokenized_words]"
   ]
  },
  {
   "cell_type": "code",
   "execution_count": 138,
   "metadata": {
    "collapsed": false
   },
   "outputs": [
    {
     "data": {
      "text/plain": [
       "'deadly earthquake philippines trump abe usjapan alliance cornerstone peace stability iranian president urges respect reverence country slap wrist aiding migrants explanatory memorandum muslim brotherhood scottish lawmakers whistle european anthem popes plea pray myanmar muslims wall life along usmexico border irans supreme leader thankful trump secret expedition old hong kong'"
      ]
     },
     "execution_count": 138,
     "metadata": {},
     "output_type": "execute_result"
    }
   ],
   "source": [
    "' '.join(tokenized_words)"
   ]
  },
  {
   "cell_type": "code",
   "execution_count": 57,
   "metadata": {
    "collapsed": false
   },
   "outputs": [
    {
     "data": {
      "text/plain": [
       "dict_keys(['meta', 'docs'])"
      ]
     },
     "execution_count": 57,
     "metadata": {},
     "output_type": "execute_result"
    }
   ],
   "source": [
    "jd['response'].keys()"
   ]
  },
  {
   "cell_type": "code",
   "execution_count": 12,
   "metadata": {
    "collapsed": false
   },
   "outputs": [
    {
     "data": {
      "text/plain": [
       "'https://api.nytimes.com/svc/search/v2/articlesearch.json?api-key=aa955d9919794bb9a66785e7c52c3cb5&begin-date=20170101&end-date=20170102&page=0'"
      ]
     },
     "execution_count": 12,
     "metadata": {},
     "output_type": "execute_result"
    }
   ],
   "source": [
    "URL_builder('aa955d9919794bb9a66785e7c52c3cb5', '20170101', '20170102')"
   ]
  },
  {
   "cell_type": "code",
   "execution_count": 24,
   "metadata": {
    "collapsed": false
   },
   "outputs": [],
   "source": [
    "r = requests.get(URL_builder('aa955d9919794bb9a66785e7c52c3cb5', '20170101', '20170102'))\n",
    "f1 = json.loads(r.text)\n",
    "\n",
    "# soup = BeautifulSoup(content)\n"
   ]
  },
  {
   "cell_type": "code",
   "execution_count": 41,
   "metadata": {
    "collapsed": true
   },
   "outputs": [],
   "source": [
    "r2 = requests.get(URL_builder('aa955d9919794bb9a66785e7c52c3cb5', '20170101', '20170101'))"
   ]
  },
  {
   "cell_type": "code",
   "execution_count": 38,
   "metadata": {
    "collapsed": false,
    "scrolled": true
   },
   "outputs": [
    {
     "name": "stdout",
     "output_type": "stream",
     "text": [
      "A Presidential Golf Outing, With a Twist: Trump Owns the Place\n",
      "2017-02-12T01:33:28+0000\n",
      "Japan Defense Minister Says Gathering Information on North Korea Missile Launch\n",
      "2017-02-12T01:30:30+0000\n",
      "Cartel Power Struggle Fuelling Rising Violence in Mexico-Official\n",
      "2017-02-12T01:30:28+0000\n"
     ]
    }
   ],
   "source": [
    "for item in f1['response']['docs']: \n",
    "    if 'main' in item['headline'].keys():\n",
    "        print(item['headline']['main'])\n",
    "        print(item['pub_date'])"
   ]
  }
 ],
 "metadata": {
  "kernelspec": {
   "display_name": "Python 3",
   "language": "python",
   "name": "python3"
  },
  "language_info": {
   "codemirror_mode": {
    "name": "ipython",
    "version": 3
   },
   "file_extension": ".py",
   "mimetype": "text/x-python",
   "name": "python",
   "nbconvert_exporter": "python",
   "pygments_lexer": "ipython3",
   "version": "3.6.0"
  }
 },
 "nbformat": 4,
 "nbformat_minor": 2
}
